{
 "cells": [
  {
   "cell_type": "markdown",
   "metadata": {},
   "source": [
    "# <center>Pillow: Imaging in Python</center>\n",
    "<img src=\"twoheads.jpg\",width=400,height=400>\n",
    "#### <center> Figure 1: A different kind of python pillow <center/> "
   ]
  },
  {
   "cell_type": "markdown",
   "metadata": {},
   "source": [
    "# 1) Package Overview\n",
    "\n",
    "### PIL vs Pillow:\n",
    "\n",
    "__[PIL](http://effbot.org/imagingbook/pil-index.htm)__: Python Imaging Library. Last release: 2009. It isn't [officially](http://pillow.readthedocs.io/en/3.4.x/about.html) dead, however. From the [website](http://effbot.org/zone/pil-index.htm): \"The next release will be 1.2, with 'early 2011' as the release target.\"\n",
    "\n",
    "\n",
    "__[Pillow](http://pillow.readthedocs.io/en/3.4.x/)__: \"the friendly PIL fork.\" Pillow is still in active development.\n",
    "\n",
    "### Why use Pillow?\n",
    "\n",
    "Pillow provides general image handling and processing capabilities. Functionality includes image enhancement, image filtering, and placing text on images.\n",
    "\n",
    "### Relevant Sites\n",
    "\n",
    "Pillow has its own [website](https://python-pillow.org/). \n",
    "\n",
    "Documentation is available [here](http://pillow.readthedocs.io/en/3.4.x/).\n",
    "\n",
    "[Here's](https://automatetheboringstuff.com/chapter17/) a helpful introduction to Pillow fundamentals.\n",
    "\n",
    "\n",
    "\n",
    "### Supported Platforms\n",
    "\n",
    "Pillow works on Windows, Mac, and Linux.\n",
    "\n",
    "\n",
    "# 2) Package Maintenance\n",
    "\n",
    "### Upkeep \n",
    "\n",
    "Pillow is maintained by [Alex Clark](http://aclark.net/) and [contributors](https://github.com/python-pillow/Pillow/graphs/contributors).\n",
    "\n",
    "### Latest Release\n",
    "\n",
    "Pillow: 3.4.2 (Released October 2016) \n",
    "\n",
    "### Code Storage\n",
    "\n",
    "Pillow code is hosted on [GitHub](https://github.com/python-pillow/Pillow).\n",
    "\n",
    "### Open Source?\n",
    "\n",
    "Both PIL is licensed under an open source [PIL Software License](http://pillow.readthedocs.io/en/3.4.x/about.html)\n",
    "\n",
    "# 3) Package Installation\n",
    "\n",
    "Run \"pip install Pillow\" at the command line.\n",
    "\n",
    "\n",
    "# 4) List of Modules \n",
    "__*__ denotes modules available in Pillow but not PIL\n",
    "\n",
    "1. __Image__: Defines the Image class. Also provides a number of [factory methods](https://pythonspot.com/en/factory-method/).  \n",
    "2. __ImageChops__ (\"Channel Operations\"): Provides arithmetical image operations.\n",
    "3. __ImageColor__: Contains color tables and converters from CSS3-style color specifiers to RGB tuples.\n",
    "4. __ImageCms*__: Provides color profile management support.\n",
    "5. __ImageDraw__: Provides simple 2D graphics for Image objects.\n",
    "6. __ImageEnhance__: Provides image enhancement capabilities.\n",
    "7. __ImageFile__: Provides support functions for the image open and save functions. Also provides a Parser class to decode image piece by piece (e.g., while receiving it over a network connection)\n",
    "8. __ImageFilter__: Provides image filtering capabilities.\n",
    "9. __ImageFont__: Defines the ImageFont class. \n",
    "10. __ImageGrab__ (Mac and Windows only): Provides ability to copy contents of screen or clipboard to PIL image memory.\n",
    "11. __ImageMath__: Can be used to evaluate \"image expressions.\"\n",
    "12. __ImageMorph*__: Provides morphology operations on images. \n",
    "13. __ImageOps__: Contains a number of ‘ready-made’ image processing operations. This module is somewhat experimental, and most operators only work on L and RGB images.\n",
    "14. __ImagePalette__: Contains a class of the same name to represent the color palette of palette mapped images. All methods are considered experimental.\n",
    "15. __ImagePath__: Used to store and manipulate 2-dimensional vector data.\n",
    "16. __ImageQT__: Contains support for creating PyQt4 or PyQt5 QImage objects from PIL images.\n",
    "17. __ImageSequence__: Contains a wrapper class that lets you iterate over the frames of an image sequence.\n",
    "18. __ImageStat__: Calculates global statistics for an image, or for a region of an image.\n",
    "19. __ImageTk__: Contains support to create and modify Tkinter BitmapImage and PhotoImage objects from PIL images.\n",
    "20. __ImageWin__ (Windows only): Contains support to create and display images on Windows.\n",
    "21. __ExifTags*__: Contains support to create and display images on Windows. \n",
    "22. __TiffTags*__: Exposes many of the standard TIFF metadata tag numbers, names, and type information. \n",
    "23. __OleFileIO*__: Reads Microsoft OLE2 files (also called Structured Storage or Microsoft Compound Document File Format), such as Microsoft Office documents, Image Composer and FlashPix files, and Outlook messages. \n",
    "24. __PSDraw__: Provides simple print support for Postscript printers. You can print text, graphics and images through this module."
   ]
  },
  {
   "cell_type": "markdown",
   "metadata": {},
   "source": [
    "## Basic Image Handling"
   ]
  },
  {
   "cell_type": "code",
   "execution_count": null,
   "metadata": {
    "collapsed": true,
    "scrolled": true
   },
   "outputs": [],
   "source": [
    "from PIL import Image                  "
   ]
  },
  {
   "cell_type": "code",
   "execution_count": null,
   "metadata": {
    "collapsed": true
   },
   "outputs": [],
   "source": [
    "Image.open(\"a_image.tif\")                            "
   ]
  },
  {
   "cell_type": "code",
   "execution_count": null,
   "metadata": {
    "collapsed": true,
    "scrolled": true
   },
   "outputs": [],
   "source": [
    "im = Image.open(\"a_image.tif\")\n",
    "im                                   "
   ]
  },
  {
   "cell_type": "code",
   "execution_count": null,
   "metadata": {
    "collapsed": true
   },
   "outputs": [],
   "source": [
    "im.show()                             "
   ]
  },
  {
   "cell_type": "code",
   "execution_count": null,
   "metadata": {
    "collapsed": true
   },
   "outputs": [],
   "source": [
    "im.rotate(180)    "
   ]
  },
  {
   "cell_type": "markdown",
   "metadata": {},
   "source": [
    "## Take Screengrabs"
   ]
  },
  {
   "cell_type": "code",
   "execution_count": null,
   "metadata": {
    "collapsed": true,
    "scrolled": false
   },
   "outputs": [],
   "source": [
    "from PIL import ImageGrab       \n",
    "ImageGrab.grab()                      "
   ]
  },
  {
   "cell_type": "markdown",
   "metadata": {},
   "source": [
    "# Calculate Image Statistics"
   ]
  },
  {
   "cell_type": "code",
   "execution_count": null,
   "metadata": {
    "collapsed": true
   },
   "outputs": [],
   "source": [
    "from PIL import ImageStat\n",
    "ImageStat.Stat(im).count       # Total number of pixels for each band in the image."
   ]
  },
  {
   "cell_type": "code",
   "execution_count": null,
   "metadata": {
    "collapsed": true,
    "scrolled": true
   },
   "outputs": [],
   "source": [
    "ImageStat.Stat(im).extrema     # Minimum and maximum values for each band in the image."
   ]
  },
  {
   "cell_type": "code",
   "execution_count": null,
   "metadata": {
    "collapsed": true
   },
   "outputs": [],
   "source": [
    "ImageStat.Stat(im).sum        # Sum of all pixels for each band in the image."
   ]
  },
  {
   "cell_type": "code",
   "execution_count": null,
   "metadata": {
    "collapsed": true,
    "scrolled": true
   },
   "outputs": [],
   "source": [
    "ImageStat.Stat(im).sum2       # Squared sum of all pixels for each band in the image."
   ]
  },
  {
   "cell_type": "code",
   "execution_count": null,
   "metadata": {
    "collapsed": true
   },
   "outputs": [],
   "source": [
    "ImageStat.Stat(im).mean       # Average (arithmetic mean) pixel level for each band in the image."
   ]
  },
  {
   "cell_type": "code",
   "execution_count": null,
   "metadata": {
    "collapsed": true
   },
   "outputs": [],
   "source": [
    "ImageStat.Stat(im).median     # Median pixel level for each band in the image."
   ]
  },
  {
   "cell_type": "code",
   "execution_count": null,
   "metadata": {
    "collapsed": true
   },
   "outputs": [],
   "source": [
    "ImageStat.Stat(im).rms        # RMS (root-mean-square) for each band in the image."
   ]
  },
  {
   "cell_type": "code",
   "execution_count": null,
   "metadata": {
    "collapsed": true
   },
   "outputs": [],
   "source": [
    "ImageStat.Stat(im).var         # Variance for each band in the image."
   ]
  },
  {
   "cell_type": "code",
   "execution_count": null,
   "metadata": {
    "collapsed": true
   },
   "outputs": [],
   "source": [
    "ImageStat.Stat(im).stddev    # Standard deviation for each band in the image."
   ]
  },
  {
   "cell_type": "markdown",
   "metadata": {},
   "source": [
    "## Process and Enhance Images"
   ]
  },
  {
   "cell_type": "code",
   "execution_count": null,
   "metadata": {
    "collapsed": true
   },
   "outputs": [],
   "source": [
    "from PIL import ImageFilter       # Provides a set of predefined filters. "
   ]
  },
  {
   "cell_type": "code",
   "execution_count": null,
   "metadata": {
    "collapsed": true,
    "scrolled": false
   },
   "outputs": [],
   "source": [
    "choctaw = Image.open('choctawbay.jpg')\n",
    "choctaw"
   ]
  },
  {
   "cell_type": "code",
   "execution_count": null,
   "metadata": {
    "collapsed": true
   },
   "outputs": [],
   "source": [
    "choctaw.filter(ImageFilter.BLUR)  "
   ]
  },
  {
   "cell_type": "code",
   "execution_count": null,
   "metadata": {
    "collapsed": true
   },
   "outputs": [],
   "source": [
    "choctaw.filter(ImageFilter.CONTOUR)   "
   ]
  },
  {
   "cell_type": "code",
   "execution_count": null,
   "metadata": {
    "collapsed": true,
    "scrolled": true
   },
   "outputs": [],
   "source": [
    "choctaw.filter(ImageFilter.DETAIL)"
   ]
  },
  {
   "cell_type": "code",
   "execution_count": null,
   "metadata": {
    "collapsed": true,
    "scrolled": true
   },
   "outputs": [],
   "source": [
    "choctaw.filter(ImageFilter.EDGE_ENHANCE)"
   ]
  },
  {
   "cell_type": "code",
   "execution_count": null,
   "metadata": {
    "collapsed": true
   },
   "outputs": [],
   "source": [
    "choctaw.filter(ImageFilter.EDGE_ENHANCE_MORE)"
   ]
  },
  {
   "cell_type": "code",
   "execution_count": null,
   "metadata": {
    "collapsed": true,
    "scrolled": true
   },
   "outputs": [],
   "source": [
    "a = choctaw.filter(ImageFilter.EMBOSS)\n",
    "a"
   ]
  },
  {
   "cell_type": "code",
   "execution_count": null,
   "metadata": {
    "collapsed": true,
    "scrolled": true
   },
   "outputs": [],
   "source": [
    "b = choctaw.filter(ImageFilter.SMOOTH)\n",
    "b"
   ]
  },
  {
   "cell_type": "code",
   "execution_count": null,
   "metadata": {
    "collapsed": true,
    "scrolled": true
   },
   "outputs": [],
   "source": [
    "c = Image.blend(a, b, .50)                          # Interpolates between two images of same size and mode to specified degree.\n",
    "c"
   ]
  },
  {
   "cell_type": "code",
   "execution_count": null,
   "metadata": {
    "collapsed": true,
    "scrolled": true
   },
   "outputs": [],
   "source": [
    " Image.eval(c, lambda px: 0 if px <= 64 else px)    # Image.eval applies the function to every pixel in a given image.\n",
    "                                                    # This code replaces all dark pixels with black"
   ]
  },
  {
   "cell_type": "markdown",
   "metadata": {},
   "source": [
    "# Create and Display a Thumbnail"
   ]
  },
  {
   "cell_type": "code",
   "execution_count": null,
   "metadata": {
    "collapsed": true
   },
   "outputs": [],
   "source": [
    "from PIL import ImageOps\n",
    "ImageOps.fit(choctaw, (100, 100), Image.ANTIALIAS)   "
   ]
  },
  {
   "cell_type": "markdown",
   "metadata": {},
   "source": [
    "The filter argument can be one of NEAREST (use nearest neighbour), BILINEAR (linear interpolation in a 2x2 environment), BICUBIC (cubic spline interpolation in a 4x4 environment), or ANTIALIAS (a high-quality downsampling filter). If omitted, or if the image has mode “1” or “P”, it is set to NEAREST.\n",
    "\n",
    "Downsampling is the process of throwing away samples. A  \"...common motivation for [downsampling] is to reduce the cost of processing: the calculation and/or memory required ... generally is proportional to the sampling rate, so the use of a lower sampling rate usually results in a cheaper implementation\" (http://dspguru.com/dsp/faqs/multirate/decimation).  \n",
    "\n",
    "Note that the bilinear and bicubic filters in the current version of PIL are not well-suited for large downsampling ratios (e.g. when creating thumbnails). You should use ANTIALIAS unless speed is much more important than quality."
   ]
  },
  {
   "cell_type": "markdown",
   "metadata": {},
   "source": [
    "# Create Objects and Do Things with Them"
   ]
  },
  {
   "cell_type": "code",
   "execution_count": null,
   "metadata": {
    "collapsed": true
   },
   "outputs": [],
   "source": [
    "from PIL import ImageFont, ImageDraw                                 "
   ]
  },
  {
   "cell_type": "code",
   "execution_count": null,
   "metadata": {
    "collapsed": true,
    "scrolled": true
   },
   "outputs": [],
   "source": [
    "square = Image.new(\"RGB\", (150, 150), \"red\")        \n",
    "square"
   ]
  },
  {
   "cell_type": "code",
   "execution_count": null,
   "metadata": {
    "collapsed": true
   },
   "outputs": [],
   "source": [
    "square.save(\"shape.jpg\")                           "
   ]
  },
  {
   "cell_type": "code",
   "execution_count": null,
   "metadata": {
    "collapsed": true
   },
   "outputs": [],
   "source": [
    "Image.open(\"shape.jpg\")"
   ]
  },
  {
   "cell_type": "code",
   "execution_count": null,
   "metadata": {
    "collapsed": true,
    "scrolled": true
   },
   "outputs": [],
   "source": [
    "choctaw_copy = choctaw.copy()                                       \n",
    "draw = ImageDraw.Draw(choctaw_copy)                                     \n",
    "font = ImageFont.truetype(\"LCALLIG.TTF\", 55)                            \n",
    "draw.text((360, 180), \"Choctawhatchee Bay\", font=font, fill = \"white\")  \n",
    "choctaw_copy"
   ]
  },
  {
   "cell_type": "code",
   "execution_count": null,
   "metadata": {
    "collapsed": true,
    "scrolled": true
   },
   "outputs": [],
   "source": [
    "choctaw_copy = choctaw.copy()\n",
    "draw = ImageDraw.Draw(choctaw_copy)\n",
    "font = ImageFont.truetype(\"GOUDYSTO.TTF\", 30)\n",
    "draw.text((280, 200), \"Choctawhatchee Bay\", font=font, fill = \"yellow\")\n",
    "choctaw_copy"
   ]
  },
  {
   "cell_type": "code",
   "execution_count": null,
   "metadata": {
    "collapsed": true
   },
   "outputs": [],
   "source": [
    "choctaw_copy = choctaw.copy()\n",
    "draw1 = ImageDraw.Draw(choctaw_copy)\n",
    "draw1.arc(((150, 150), (200,200)), 0, 360, fill = 'yellow')  \n",
    "font = ImageFont.truetype(\"/fonts/verdanab.ttf\", 30)                      \n",
    "draw1.text((90, 200), \"Study Area\", font=font, fill = \"yellow\")      \n",
    "choctaw_copy"
   ]
  },
  {
   "cell_type": "markdown",
   "metadata": {},
   "source": [
    "# The OleFileIO Module: Reading Microsoft Office Files"
   ]
  },
  {
   "cell_type": "markdown",
   "metadata": {},
   "source": [
    "\"An OLE file can be seen as a mini file system or a Zip archive: It contains streams of data that look like files embedded within the OLE file. Each stream has a name. For example, the main stream of a MS Word document containing its text is named 'WordDocument.'\" [Read more here](http://pillow.readthedocs.io/en/3.4.x/reference/OleFileIO.html). \n",
    "\n",
    "This module allows you to read OLE2 files."
   ]
  },
  {
   "cell_type": "code",
   "execution_count": null,
   "metadata": {
    "collapsed": true
   },
   "outputs": [],
   "source": [
    "from PIL import OleFileIO\n",
    "OleFileIO.isOleFile('LoremIpsum.doc')         # \"Is this file an OLE file?\""
   ]
  },
  {
   "cell_type": "code",
   "execution_count": null,
   "metadata": {
    "collapsed": true,
    "scrolled": true
   },
   "outputs": [],
   "source": [
    "ole = OleFileIO.OleFileIO('LoremIpsum.doc') \n",
    "print(ole.listdir())                         # List of data streams"
   ]
  },
  {
   "cell_type": "code",
   "execution_count": null,
   "metadata": {
    "collapsed": true,
    "scrolled": true
   },
   "outputs": [],
   "source": [
    "ole.get_size('WordDocument')            # Size of the data stream in bytes"
   ]
  },
  {
   "cell_type": "code",
   "execution_count": null,
   "metadata": {
    "collapsed": true
   },
   "outputs": [],
   "source": [
    "meta = ole.get_metadata()                # Calling OLE file metadata\n",
    "print('Author:', meta.author)            # Printing metadata\n",
    "print('Title:', meta.title)\n",
    "print('Creation date:', meta.create_time)\n",
    "# print all metadata:\n",
    "meta.dump()\n",
    "ole.close()             # Closes the OLE file. Note what happens if you try to rerun the cell without reopening the OLE file"
   ]
  },
  {
   "cell_type": "markdown",
   "metadata": {},
   "source": [
    "#  <font color='gold'>Making</font> <font color='limegreen'>Psychedelic</font> <font color='magenta'>Art</font>  <font color='coal'>with </font>  <font color='seablue'>Python</font>"
   ]
  },
  {
   "cell_type": "markdown",
   "metadata": {},
   "source": [
    "Code credit [Jeremy Kun](https://jeremykun.com/2012/01/01/random-psychedelic-art/)"
   ]
  },
  {
   "cell_type": "code",
   "execution_count": null,
   "metadata": {
    "collapsed": true
   },
   "outputs": [],
   "source": [
    "import random, math                                                      # Art is fun\n",
    "from PIL import Image\n",
    "\n",
    "random.seed()\n",
    "\n",
    "class X:\n",
    "   def eval(self, x, y):\n",
    "      return x\n",
    "   \n",
    "   def __str__(self):\n",
    "      return \"x\"\n",
    "\n",
    "class Y:\n",
    "   def eval(self, x, y):\n",
    "      return y\n",
    "   \n",
    "   def __str__(self):\n",
    "      return \"y\"\n",
    "\n",
    "class SinPi:\n",
    "   def __init__(self, prob):\n",
    "      self.arg = buildExpr(prob * prob)\n",
    "   \n",
    "   def __str__(self):\n",
    "      return \"sin(pi*\" + str(self.arg) + \")\"\n",
    "\n",
    "   def eval(self, x, y):\n",
    "      return math.sin(math.pi * self.arg.eval(x,y))\n",
    "\n",
    "class CosPi:\n",
    "   def __init__(self, prob):\n",
    "      self.arg = buildExpr(prob * prob)\n",
    "\n",
    "   def __str__(self):\n",
    "      return \"cos(pi*\" + str(self.arg) + \")\"\n",
    "\n",
    "   def eval(self, x, y):\n",
    "      return math.cos(math.pi * self.arg.eval(x,y))\n",
    "\n",
    "class Times:\n",
    "   def __init__(self, prob):\n",
    "      self.lhs = buildExpr(prob * prob)\n",
    "      self.rhs = buildExpr(prob * prob)\n",
    "\n",
    "   def __str__(self):\n",
    "      return str(self.lhs) + \"*\" + str(self.rhs)\n",
    "\n",
    "   def eval(self, x, y):\n",
    "      return self.lhs.eval(x,y) * self.rhs.eval(x,y)\n",
    "\n",
    "def buildExpr(prob = 0.99):\n",
    "   if random.random() < prob:\n",
    "      return random.choice([SinPi, CosPi, Times])(prob)\n",
    "   else:\n",
    "      return random.choice([X, Y])()\n",
    "\n",
    "def plotIntensity(exp, pixelsPerUnit = 150):\n",
    "    canvasWidth = 2 * pixelsPerUnit + 1\n",
    "    canvas = Image.new(\"L\", (canvasWidth, canvasWidth))\n",
    "\n",
    "    for py in range(canvasWidth):\n",
    "        for px in range(canvasWidth):\n",
    "            # Convert pixel location to [-1,1] coordinates\n",
    "            x = float(px - pixelsPerUnit) / pixelsPerUnit \n",
    "            y = -float(py - pixelsPerUnit) / pixelsPerUnit\n",
    "            z = exp.eval(x,y)\n",
    "\n",
    "            # Scale [-1,1] result to [0,255].\n",
    "            intensity = int(z * 127.5 + 127.5)\n",
    "            canvas.putpixel((px,py), intensity)\n",
    "\n",
    "    return canvas\n",
    "\n",
    "def plotColor(redExp, greenExp, blueExp, pixelsPerUnit = 150):\n",
    "    redPlane   = plotIntensity(redExp, pixelsPerUnit)\n",
    "    greenPlane = plotIntensity(greenExp, pixelsPerUnit)\n",
    "    bluePlane  = plotIntensity(blueExp, pixelsPerUnit)\n",
    "    return Image.merge(\"RGB\", (redPlane, greenPlane, bluePlane))\n",
    "\n",
    "def makeImage(numPics = 20):\n",
    "   with open(\"eqns.txt\", 'w') as eqnsFile:\n",
    "      for i in range(numPics):\n",
    "         redExp = buildExpr()\n",
    "         greenExp = buildExpr()\n",
    "         blueExp = buildExpr()\n",
    "\n",
    "         eqnsFile.write(\"img\" + str(i) + \":\\n\")\n",
    "         eqnsFile.write(\"red = \" + str(redExp) + \"\\n\")\n",
    "         eqnsFile.write(\"green = \" + str(greenExp) + \"\\n\")\n",
    "         eqnsFile.write(\"blue = \" + str(blueExp) + \"\\n\\n\")\n",
    "\n",
    "         image = plotColor(redExp, greenExp, blueExp)\n",
    "         image.show(\"img\" + str(i) + \".png\", \"PNG\") "
   ]
  },
  {
   "cell_type": "code",
   "execution_count": null,
   "metadata": {
    "collapsed": true
   },
   "outputs": [],
   "source": [
    "makeImage(1)"
   ]
  },
  {
   "cell_type": "markdown",
   "metadata": {
    "collapsed": true
   },
   "source": [
    "# Just for Funsies"
   ]
  },
  {
   "cell_type": "code",
   "execution_count": null,
   "metadata": {
    "collapsed": true
   },
   "outputs": [],
   "source": [
    "Image.open('python.png')"
   ]
  },
  {
   "cell_type": "markdown",
   "metadata": {},
   "source": [
    "Credit [xkcd](http://xkcd.com)"
   ]
  }
 ],
 "metadata": {
  "anaconda-cloud": {},
  "kernelspec": {
   "display_name": "Python 2",
   "language": "python",
   "name": "python2"
  },
  "language_info": {
   "codemirror_mode": {
    "name": "ipython",
    "version": 2
   },
   "file_extension": ".py",
   "mimetype": "text/x-python",
   "name": "python",
   "nbconvert_exporter": "python",
   "pygments_lexer": "ipython2",
   "version": "2.7.13"
  }
 },
 "nbformat": 4,
 "nbformat_minor": 1
}
